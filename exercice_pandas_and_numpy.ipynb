{
  "cells": [
    {
      "cell_type": "markdown",
      "metadata": {
        "id": "UP0buRHqnya0"
      },
      "source": [
        "#  Importer les bibliothèques"
      ],
      "id": "UP0buRHqnya0"
    },
    {
      "cell_type": "code",
      "execution_count": null,
      "metadata": {
        "id": "_tgQn5mVnya2"
      },
      "outputs": [],
      "source": [
        "import pandas as pd\n",
        "import numpy as np\n",
        "import seaborn as sns\n",
        "import matplotlib.pyplot as plt"
      ],
      "id": "_tgQn5mVnya2"
    },
    {
      "cell_type": "markdown",
      "metadata": {
        "id": "SMIh8KD-nya3"
      },
      "source": [
        "### 🟡 Partie 1 : Charger et explorer le fichier"
      ],
      "id": "SMIh8KD-nya3"
    },
    {
      "cell_type": "code",
      "execution_count": null,
      "metadata": {
        "id": "zQZVz_Fsnya3"
      },
      "outputs": [],
      "source": [
        "df = pd.read_csv(\"employees2.csv\")\n",
        "print(df.head())\n",
        "print(df.dtypes)\n",
        "print(df.isnull().sum())"
      ],
      "id": "zQZVz_Fsnya3"
    },
    {
      "cell_type": "markdown",
      "metadata": {
        "id": "s0C5ZXR-nya3"
      },
      "source": [
        "### 🟢 Partie 2 : Nettoyer les données"
      ],
      "id": "s0C5ZXR-nya3"
    },
    {
      "cell_type": "code",
      "execution_count": null,
      "metadata": {
        "id": "BnjgX688nya4"
      },
      "outputs": [],
      "source": [
        "df[\"Age\"] = df[\"Age\"].fillna(df[\"Age\"].median())\n",
        "df[\"Salary\"] = df.groupby(\"Department\")[\"Salary\"].transform(lambda x: x.fillna(x.mean()))\n",
        "df[\"Age\"] = df[\"Age\"].astype(int)\n",
        "df[\"Years_Experience\"] = df[\"Years_Experience\"].astype(int)\n",
        "df[\"Salary\"] = df[\"Salary\"].astype(float)\n",
        "df[\"Remote\"] = df[\"Remote\"].replace({\"Yes\": \"Oui\", \"No\": \"Non\"})\n",
        "df[\"Ancienneté_Catégorie\"] = \"Junior\"\n",
        "df.loc[df[\"Years_Experience\"] >= 3, \"Ancienneté_Catégorie\"] = \"Intermédiaire\"\n",
        "df.loc[df[\"Years_Experience\"] >= 8, \"Ancienneté_Catégorie\"] = \"Senior\"\n",
        "df.loc[df[\"Years_Experience\"] > 15, \"Ancienneté_Catégorie\"] = \"Expert\""
      ],
      "id": "BnjgX688nya4"
    },
    {
      "cell_type": "markdown",
      "metadata": {
        "id": "V9Tg7A3Wnya4"
      },
      "source": [
        "### 🔵 Partie 3 : Statistiques simples"
      ],
      "id": "V9Tg7A3Wnya4"
    },
    {
      "cell_type": "code",
      "execution_count": null,
      "metadata": {
        "id": "DpfCKcponya4"
      },
      "outputs": [],
      "source": [
        "print(\"Salaire moyen :\", df[\"Salary\"].mean())\n",
        "print(\"Salaire max :\", df[\"Salary\"].max())\n",
        "print(df.groupby(\"Department\")[\"Salary\"].mean())\n",
        "print(df.groupby(\"Ancienneté_Catégorie\")[\"Salary\"].agg([\"mean\", \"median\"]))\n",
        "print(df[df[\"Remote\"] == \"Oui\"].groupby(\"Department\").size())"
      ],
      "id": "DpfCKcponya4"
    },
    {
      "cell_type": "markdown",
      "metadata": {
        "id": "QEH9JI5gnya4"
      },
      "source": [
        "### 🟠 Partie 4 : Tableaux croisés simples"
      ],
      "id": "QEH9JI5gnya4"
    },
    {
      "cell_type": "code",
      "execution_count": null,
      "metadata": {
        "id": "ttUZ2G7Znya5"
      },
      "outputs": [],
      "source": [
        "df[\"Groupe_Age\"] = pd.cut(df[\"Age\"], [18, 30, 45, 60, 100], labels=[\"Jeune\", \"Adulte\", \"Senior\", \"Retraité\"])\n",
        "print(pd.pivot_table(df, values=\"Salary\", index=\"Department\", columns=\"Remote\"))\n",
        "print(pd.pivot_table(df, values=\"Years_Experience\", index=\"Groupe_Age\", columns=\"Department\"))"
      ],
      "id": "ttUZ2G7Znya5"
    },
    {
      "cell_type": "markdown",
      "metadata": {
        "id": "q8K6_iXnnya5"
      },
      "source": [
        "### 🔴 Partie 5 : Calculs avec NumPy"
      ],
      "id": "q8K6_iXnnya5"
    },
    {
      "cell_type": "code",
      "execution_count": null,
      "metadata": {
        "id": "HviQ49Ognya5"
      },
      "outputs": [],
      "source": [
        "df[\"Performance\"] = \"Bon\"\n",
        "df.loc[df[\"Salary\"] >= 60000, \"Performance\"] = \"Moyen\"\n",
        "df.loc[df[\"Salary\"] >= 80000, \"Performance\"] = \"Haut\"\n",
        "df[\"Profil\"] = \"Autre\"\n",
        "df.loc[(df[\"Age\"] < 35) & (df[\"Years_Experience\"] < 5), \"Profil\"] = \"Jeune & Nouveau\"\n",
        "df.loc[(df[\"Age\"] < 35) & (df[\"Years_Experience\"] >= 5), \"Profil\"] = \"Jeune & Expérimenté\"\n",
        "df.loc[(df[\"Age\"] >= 35) & (df[\"Years_Experience\"] < 5), \"Profil\"] = \"Senior & Nouveau\"\n",
        "df.loc[(df[\"Age\"] >= 35) & (df[\"Years_Experience\"] >= 5), \"Profil\"] = \"Senior & Expérimenté\"\n",
        "df[\"Diff_Salaire_Departement\"] = df[\"Salary\"] - df.groupby(\"Department\")[\"Salary\"].transform(\"mean\")"
      ],
      "id": "HviQ49Ognya5"
    },
    {
      "cell_type": "markdown",
      "metadata": {
        "id": "DDj5f_CCnya5"
      },
      "source": [
        "### 🟣 Partie 6 : Graphiques simples"
      ],
      "id": "DDj5f_CCnya5"
    },
    {
      "cell_type": "code",
      "execution_count": null,
      "metadata": {
        "id": "TLITkBMenya5"
      },
      "outputs": [],
      "source": [
        "sns.histplot(df[\"Salary\"], kde=True)\n",
        "plt.title(\"Distribution des salaires\")\n",
        "plt.show()\n",
        "sns.barplot(x=\"Department\", y=\"Salary\", data=df, estimator=np.mean)\n",
        "plt.title(\"Salaire moyen par département\")\n",
        "plt.xticks(rotation=45)\n",
        "plt.show()\n",
        "sns.boxplot(x=\"Ancienneté_Catégorie\", y=\"Salary\", data=df)\n",
        "plt.title(\"Salaires par ancienneté\")\n",
        "plt.show()"
      ],
      "id": "TLITkBMenya5"
    }
  ],
  "metadata": {
    "kernelspec": {
      "display_name": "Python 3",
      "language": "python",
      "name": "python3"
    },
    "language_info": {
      "file_extension": ".py",
      "mimetype": "text/x-python",
      "name": "python",
      "version": "3.10"
    },
    "colab": {
      "provenance": []
    }
  },
  "nbformat": 4,
  "nbformat_minor": 5
}