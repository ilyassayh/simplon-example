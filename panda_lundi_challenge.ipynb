{
  "nbformat": 4,
  "nbformat_minor": 0,
  "metadata": {
    "colab": {
      "provenance": []
    },
    "kernelspec": {
      "name": "python3",
      "display_name": "Python 3"
    },
    "language_info": {
      "name": "python"
    }
  },
  "cells": [
    {
      "cell_type": "code",
      "execution_count": 8,
      "metadata": {
        "id": "R7FtFGynHZiV"
      },
      "outputs": [],
      "source": [
        "import pandas as pd\n",
        "import numpy as np\n"
      ]
    },
    {
      "cell_type": "markdown",
      "source": [
        "## 1. Création du DataFrame"
      ],
      "metadata": {
        "id": "tehZCFwvlDa9"
      }
    },
    {
      "cell_type": "code",
      "source": [
        "data = [\n",
        "    [\"Amine\", 28, \"Casablanca\"],\n",
        "    [\"Lina\", 22, \"Rabat\"],\n",
        "    [\"Youssef\", 35, \"Fès\"],\n",
        "    [\"Salma\", 30, \"Casablanca\"],\n",
        "    [\"Nora\", np.nan, \"Tanger\"]\n",
        "]\n",
        "\n",
        "df = pd.DataFrame(data, columns=[\"Nom\", \"Âge\", \"Ville\"])\n",
        "print(df.head())\n",
        "print(df.info())\n",
        "print(df.describe())\n"
      ],
      "metadata": {
        "colab": {
          "base_uri": "https://localhost:8080/"
        },
        "id": "l7T2NfgBlJCm",
        "outputId": "04886c11-e47c-4359-963c-2f7ee09928c4"
      },
      "execution_count": 9,
      "outputs": [
        {
          "output_type": "stream",
          "name": "stdout",
          "text": [
            "       Nom   Âge       Ville\n",
            "0    Amine  28.0  Casablanca\n",
            "1     Lina  22.0       Rabat\n",
            "2  Youssef  35.0         Fès\n",
            "3    Salma  30.0  Casablanca\n",
            "4     Nora   NaN      Tanger\n",
            "<class 'pandas.core.frame.DataFrame'>\n",
            "RangeIndex: 5 entries, 0 to 4\n",
            "Data columns (total 3 columns):\n",
            " #   Column  Non-Null Count  Dtype  \n",
            "---  ------  --------------  -----  \n",
            " 0   Nom     5 non-null      object \n",
            " 1   Âge     4 non-null      float64\n",
            " 2   Ville   5 non-null      object \n",
            "dtypes: float64(1), object(2)\n",
            "memory usage: 252.0+ bytes\n",
            "None\n",
            "             Âge\n",
            "count   4.000000\n",
            "mean   28.750000\n",
            "std     5.377422\n",
            "min    22.000000\n",
            "25%    26.500000\n",
            "50%    29.000000\n",
            "75%    31.250000\n",
            "max    35.000000\n"
          ]
        }
      ]
    },
    {
      "cell_type": "markdown",
      "source": [
        "## 2. Sélection et filtrage"
      ],
      "metadata": {
        "id": "Jtqnu7aMlY7e"
      }
    },
    {
      "cell_type": "code",
      "source": [
        "print(df[\"Ville\"])\n",
        "print(df[df[\"Âge\"] > 25])\n",
        "print(df[df[\"Ville\"] == \"Casablanca\"][[\"Nom\", \"Ville\"]])\n"
      ],
      "metadata": {
        "colab": {
          "base_uri": "https://localhost:8080/"
        },
        "id": "HiCz4c5Zlg26",
        "outputId": "5ee375dd-e82e-4495-f1bb-0ef2ed43cbfa"
      },
      "execution_count": 10,
      "outputs": [
        {
          "output_type": "stream",
          "name": "stdout",
          "text": [
            "0    Casablanca\n",
            "1         Rabat\n",
            "2           Fès\n",
            "3    Casablanca\n",
            "4        Tanger\n",
            "Name: Ville, dtype: object\n",
            "       Nom   Âge       Ville\n",
            "0    Amine  28.0  Casablanca\n",
            "2  Youssef  35.0         Fès\n",
            "3    Salma  30.0  Casablanca\n",
            "     Nom       Ville\n",
            "0  Amine  Casablanca\n",
            "3  Salma  Casablanca\n"
          ]
        }
      ]
    },
    {
      "cell_type": "markdown",
      "source": [
        "# 3. Ajout et modification"
      ],
      "metadata": {
        "id": "499us4Cclnoz"
      }
    },
    {
      "cell_type": "code",
      "source": [
        "df[\"Année de Naissance\"] = 2025 - df[\"Âge\"]\n",
        "df[\"Nom\"] = df[\"Nom\"].str.upper()\n",
        "df.rename(columns={\"Ville\": \"Localisation\"}, inplace=True)\n",
        "print(df)\n"
      ],
      "metadata": {
        "colab": {
          "base_uri": "https://localhost:8080/"
        },
        "id": "ZsBercQ8lrzZ",
        "outputId": "36f4d5e5-481b-418a-ec5c-1d559b052184"
      },
      "execution_count": 11,
      "outputs": [
        {
          "output_type": "stream",
          "name": "stdout",
          "text": [
            "       Nom   Âge Localisation  Année de Naissance\n",
            "0    AMINE  28.0   Casablanca              1997.0\n",
            "1     LINA  22.0        Rabat              2003.0\n",
            "2  YOUSSEF  35.0          Fès              1990.0\n",
            "3    SALMA  30.0   Casablanca              1995.0\n",
            "4     NORA   NaN       Tanger                 NaN\n"
          ]
        }
      ]
    },
    {
      "cell_type": "markdown",
      "source": [
        "# 4. Gestion des valeurs manquantes"
      ],
      "metadata": {
        "id": "PVz87Bohlvll"
      }
    },
    {
      "cell_type": "code",
      "source": [
        "df.loc[1, \"Âge\"] = np.nan\n",
        "print(df[df.isnull().any(axis=1)])\n",
        "\n",
        "moyenne = df[\"Âge\"].mean()\n",
        "df[\"Âge\"] = df[\"Âge\"].fillna(moyenne)\n",
        "print(df)\n"
      ],
      "metadata": {
        "colab": {
          "base_uri": "https://localhost:8080/"
        },
        "id": "q5CRjX2Xl1OJ",
        "outputId": "2915e262-6a59-45ef-ac1f-7ab46d05d42d"
      },
      "execution_count": 12,
      "outputs": [
        {
          "output_type": "stream",
          "name": "stdout",
          "text": [
            "    Nom  Âge Localisation  Année de Naissance\n",
            "1  LINA  NaN        Rabat              2003.0\n",
            "4  NORA  NaN       Tanger                 NaN\n",
            "       Nom   Âge Localisation  Année de Naissance\n",
            "0    AMINE  28.0   Casablanca              1997.0\n",
            "1     LINA  31.0        Rabat              2003.0\n",
            "2  YOUSSEF  35.0          Fès              1990.0\n",
            "3    SALMA  30.0   Casablanca              1995.0\n",
            "4     NORA  31.0       Tanger                 NaN\n"
          ]
        }
      ]
    },
    {
      "cell_type": "markdown",
      "source": [
        "# 5. Tri et suppression\n"
      ],
      "metadata": {
        "id": "iAXZCYKql5aL"
      }
    },
    {
      "cell_type": "code",
      "source": [
        "df = df.sort_values(by=\"Âge\", ascending=False)\n",
        "df = df.drop(columns=[\"Année de Naissance\"])\n",
        "df = df.drop(index=df.index[0])\n",
        "print(df)\n"
      ],
      "metadata": {
        "colab": {
          "base_uri": "https://localhost:8080/"
        },
        "id": "uu8uDKITl-Hf",
        "outputId": "d2aef561-8418-4fae-a2eb-65a634bb2732"
      },
      "execution_count": 13,
      "outputs": [
        {
          "output_type": "stream",
          "name": "stdout",
          "text": [
            "     Nom   Âge Localisation\n",
            "4   NORA  31.0       Tanger\n",
            "1   LINA  31.0        Rabat\n",
            "3  SALMA  30.0   Casablanca\n",
            "0  AMINE  28.0   Casablanca\n"
          ]
        }
      ]
    }
  ]
}